{
 "cells": [
  {
   "cell_type": "markdown",
   "metadata": {},
   "source": [
    "# Basics"
   ]
  },
  {
   "cell_type": "code",
   "execution_count": 1,
   "metadata": {},
   "outputs": [],
   "source": [
    "from pyspark.sql.functions import col\n",
    "from pyspark.sql.functions import sum as _sum\n",
    "from pyspark.sql.types import FloatType, IntegerType, StringType, StructField, StructType"
   ]
  },
  {
   "cell_type": "markdown",
   "metadata": {},
   "source": [
    "### RDD Sample"
   ]
  },
  {
   "cell_type": "code",
   "execution_count": 2,
   "metadata": {},
   "outputs": [
    {
     "name": "stdout",
     "output_type": "stream",
     "text": [
      "Count: 5\n"
     ]
    },
    {
     "data": {
      "text/plain": [
       "[[1, 'grocery', 'Trader Joes', 53.46, 'weekly groceries'],\n",
       " [2, 'dining', 'Chiptole', 7.87, 'burrito for lunch'],\n",
       " [3, 'upkeep', 'CVS', 6.59, None],\n",
       " [4, 'upkeep', 'Chevron', 43.13, 'car gas fillup'],\n",
       " [5, 'grocery', 'Trader Joes', 5.42, 'dessert :)']]"
      ]
     },
     "execution_count": 2,
     "metadata": {},
     "output_type": "execute_result"
    }
   ],
   "source": [
    "values = [\n",
    "    [1, 'grocery', 'Trader Joes', 53.46, 'weekly groceries'],\n",
    "    [2, 'dining', 'Chiptole', 7.87, 'burrito for lunch'],\n",
    "    [3, 'upkeep', 'CVS', 6.59, None],\n",
    "    [4, 'upkeep', 'Chevron', 43.13, 'car gas fillup'],\n",
    "    [5, 'grocery', 'Trader Joes', 5.42, 'dessert :)']\n",
    "]\n",
    "rdd = sc.parallelize(values)\n",
    "print('Count: {count}'.format(count=rdd.count()))\n",
    "rdd.collect()"
   ]
  },
  {
   "cell_type": "markdown",
   "metadata": {},
   "source": [
    "### DataFrame Sample"
   ]
  },
  {
   "cell_type": "code",
   "execution_count": 3,
   "metadata": {},
   "outputs": [
    {
     "name": "stdout",
     "output_type": "stream",
     "text": [
      "Count: 5\n"
     ]
    },
    {
     "data": {
      "text/plain": [
       "[Row(transaction_id=1, type='grocery', vendor='Trader Joes', amount=53.459999084472656, description='weekly groceries'),\n",
       " Row(transaction_id=2, type='dining', vendor='Chiptole', amount=7.869999885559082, description='burrito for lunch'),\n",
       " Row(transaction_id=3, type='upkeep', vendor='CVS', amount=6.590000152587891, description=None),\n",
       " Row(transaction_id=4, type='upkeep', vendor='Chevron', amount=43.130001068115234, description='car gas fillup'),\n",
       " Row(transaction_id=5, type='grocery', vendor='Trader Joes', amount=5.420000076293945, description='dessert :)')]"
      ]
     },
     "execution_count": 3,
     "metadata": {},
     "output_type": "execute_result"
    }
   ],
   "source": [
    "schema = StructType([\n",
    "    StructField(name='transaction_id', dataType=IntegerType(), nullable=False),\n",
    "    StructField(name='type', dataType=StringType(), nullable=False),\n",
    "    StructField(name='vendor', dataType=StringType(), nullable=False),\n",
    "    StructField(name='amount', dataType=FloatType(), nullable=False),\n",
    "    StructField(name='description', dataType=StringType(), nullable=True)\n",
    "])\n",
    "df = spark.createDataFrame(rdd, schema)\n",
    "print('Count: {count}'.format(count=df.count()))\n",
    "df.collect()"
   ]
  },
  {
   "cell_type": "markdown",
   "metadata": {},
   "source": [
    "### Pivoting Example"
   ]
  },
  {
   "cell_type": "code",
   "execution_count": 4,
   "metadata": {},
   "outputs": [
    {
     "name": "stdout",
     "output_type": "stream",
     "text": [
      "Count: 3\n"
     ]
    },
    {
     "data": {
      "text/plain": [
       "[Row(category='grocery', total=58.8799991607666),\n",
       " Row(category='dining', total=7.869999885559082),\n",
       " Row(category='upkeep', total=49.720001220703125)]"
      ]
     },
     "execution_count": 4,
     "metadata": {},
     "output_type": "execute_result"
    }
   ],
   "source": [
    "category_agg_df = df \\\n",
    "    .withColumn('category', col('type')) \\\n",
    "    .groupBy('category') \\\n",
    "    .agg(_sum('amount').alias('total')) \\\n",
    "    .select('category', 'total')\n",
    "print('Count: {count}'.format(count=category_agg_df.count()))\n",
    "category_agg_df.collect()"
   ]
  },
  {
   "cell_type": "code",
   "execution_count": null,
   "metadata": {},
   "outputs": [],
   "source": []
  }
 ],
 "metadata": {
  "kernelspec": {
   "display_name": "Python 3",
   "language": "python",
   "name": "python3"
  },
  "language_info": {
   "codemirror_mode": {
    "name": "ipython",
    "version": 3
   },
   "file_extension": ".py",
   "mimetype": "text/x-python",
   "name": "python",
   "nbconvert_exporter": "python",
   "pygments_lexer": "ipython3",
   "version": "3.6.8"
  }
 },
 "nbformat": 4,
 "nbformat_minor": 2
}
